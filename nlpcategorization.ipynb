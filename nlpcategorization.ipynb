{
 "cells": [
  {
   "cell_type": "markdown",
   "id": "875c534c",
   "metadata": {},
   "source": [
    "# Data parsing "
   ]
  },
  {
   "cell_type": "code",
   "execution_count": 77,
   "id": "cd0b80e6",
   "metadata": {},
   "outputs": [],
   "source": [
    "import requests\n",
    "from bs4 import BeautifulSoup as bs"
   ]
  },
  {
   "cell_type": "code",
   "execution_count": 78,
   "id": "86f252ee",
   "metadata": {},
   "outputs": [],
   "source": [
    "def datascraping (url):\n",
    "    r = requests.get(url)\n",
    "    if r.status_code == 200:\n",
    "        soup = bs(r.text, 'html.parser')\n",
    "        #add all tags about text\n",
    "        allp = soup.findAll('p')\n",
    "        sitetext = ''\n",
    "        for p in allp:\n",
    "            sitetext += p.text \n",
    "        return sitetext\n",
    "    else:\n",
    "        print ('No server connection')"
   ]
  },
  {
   "cell_type": "code",
   "execution_count": 79,
   "id": "fb26b6a1",
   "metadata": {},
   "outputs": [],
   "source": [
    "sitetext = datascraping('https://oxylabs.io/blog/python-web-scraping')"
   ]
  },
  {
   "cell_type": "markdown",
   "id": "e3a46ee5",
   "metadata": {},
   "source": [
    "# Data preprocessing"
   ]
  },
  {
   "cell_type": "code",
   "execution_count": 80,
   "id": "b594774f",
   "metadata": {},
   "outputs": [],
   "source": [
    "import spacy\n",
    "import re\n",
    "nlp = spacy.load('en_core_web_sm')"
   ]
  },
  {
   "cell_type": "code",
   "execution_count": 81,
   "id": "8556f8e4",
   "metadata": {},
   "outputs": [],
   "source": [
    "def datapreprocessing(sitetext):\n",
    "    sitetext = re.sub(r'[^\\w\\s]','', sitetext)\n",
    "    sitetext = nlp(sitetext)\n",
    "    tokens = []\n",
    "    tokens.append([token.lemma_ for token in sitetext if token.is_stop == False])\n",
    "    return tokens"
   ]
  },
  {
   "cell_type": "code",
   "execution_count": 82,
   "id": "3dcaf126",
   "metadata": {},
   "outputs": [],
   "source": [
    "sitetext = datapreprocessing(sitetext)"
   ]
  },
  {
   "cell_type": "markdown",
   "id": "1e7fe58d",
   "metadata": {},
   "source": [
    "# Topics modeling"
   ]
  },
  {
   "cell_type": "code",
   "execution_count": 101,
   "id": "070faddd",
   "metadata": {},
   "outputs": [],
   "source": [
    "import gensim\n",
    "import gensim.corpora as corpora\n",
    "dictionary  = corpora.Dictionary(sitetext)\n",
    "corpus = [dictionary.doc2bow(text) for text in sitetext]    "
   ]
  },
  {
   "cell_type": "code",
   "execution_count": 106,
   "id": "f49ff7b3",
   "metadata": {},
   "outputs": [],
   "source": [
    "lda_model = gensim.models.ldamodel.LdaModel(corpus=corpus,\n",
    "                                           id2word=dictionary,\n",
    "                                           num_topics=4, \n",
    "                                           random_state=100,\n",
    "                                           update_every=1,\n",
    "                                           chunksize=100,\n",
    "                                           passes=10,\n",
    "                                           alpha='auto',\n",
    "                                           per_word_topics=True)"
   ]
  },
  {
   "cell_type": "code",
   "execution_count": 117,
   "id": "8b458928",
   "metadata": {},
   "outputs": [
    {
     "data": {
      "text/plain": [
       "'absolute'"
      ]
     },
     "execution_count": 117,
     "metadata": {},
     "output_type": "execute_result"
    }
   ],
   "source": [
    "dictionary[100]"
   ]
  },
  {
   "cell_type": "code",
   "execution_count": 107,
   "id": "72ba4f61",
   "metadata": {},
   "outputs": [
    {
     "data": {
      "text/plain": [
       "[(0,\n",
       "  '0.021*\"datum\" + 0.020*\"web\" + 0.016*\"scrape\" + 0.015*\"library\" + 0.012*\"Python\" + 0.010*\"use\" + 0.009*\"browser\" + 0.008*\"create\" + 0.008*\"need\" + 0.007*\"code\"'),\n",
       " (1,\n",
       "  '0.002*\"datum\" + 0.002*\"scrape\" + 0.002*\"web\" + 0.001*\"library\" + 0.001*\"use\" + 0.001*\"Python\" + 0.001*\"require\" + 0.001*\"create\" + 0.001*\"browser\" + 0.001*\"code\"'),\n",
       " (2,\n",
       "  '0.002*\"datum\" + 0.002*\"web\" + 0.002*\"library\" + 0.002*\"scrape\" + 0.002*\"Python\" + 0.002*\"use\" + 0.002*\"create\" + 0.002*\"page\" + 0.002*\"need\" + 0.002*\"browser\"'),\n",
       " (3,\n",
       "  '0.001*\"datum\" + 0.001*\"library\" + 0.001*\"scrape\" + 0.001*\"web\" + 0.001*\"Python\" + 0.001*\"browser\" + 0.001*\"create\" + 0.001*\"use\" + 0.001*\"require\" + 0.001*\"list\"')]"
      ]
     },
     "execution_count": 107,
     "metadata": {},
     "output_type": "execute_result"
    }
   ],
   "source": [
    "lda_model.print_topics()"
   ]
  },
  {
   "cell_type": "code",
   "execution_count": null,
   "id": "a3c791c8",
   "metadata": {},
   "outputs": [],
   "source": []
  }
 ],
 "metadata": {
  "kernelspec": {
   "display_name": "Python 3 (ipykernel)",
   "language": "python",
   "name": "python3"
  },
  "language_info": {
   "codemirror_mode": {
    "name": "ipython",
    "version": 3
   },
   "file_extension": ".py",
   "mimetype": "text/x-python",
   "name": "python",
   "nbconvert_exporter": "python",
   "pygments_lexer": "ipython3",
   "version": "3.9.7"
  }
 },
 "nbformat": 4,
 "nbformat_minor": 5
}
